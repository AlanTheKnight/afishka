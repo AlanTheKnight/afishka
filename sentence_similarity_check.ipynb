{
  "nbformat": 4,
  "nbformat_minor": 0,
  "metadata": {
    "colab": {
      "provenance": [],
      "collapsed_sections": []
    },
    "kernelspec": {
      "name": "python3",
      "display_name": "Python 3"
    },
    "language_info": {
      "name": "python"
    }
  },
  "cells": [
    {
      "cell_type": "code",
      "source": [
        "!pip install sentence-transformers"
      ],
      "metadata": {
        "id": "BIRpRQl_wpYd"
      },
      "execution_count": null,
      "outputs": []
    },
    {
      "cell_type": "code",
      "execution_count": null,
      "metadata": {
        "id": "W485SfTJwc3j"
      },
      "outputs": [],
      "source": [
        "from sentence_transformers import SentenceTransformer\n",
        "from sklearn.metrics.pairwise import cosine_similarity\n",
        "import numpy as np"
      ]
    },
    {
      "cell_type": "code",
      "source": [
        "model = SentenceTransformer('distiluse-base-multilingual-cased-v1')"
      ],
      "metadata": {
        "id": "7UsTZY7rxG80"
      },
      "execution_count": null,
      "outputs": []
    },
    {
      "cell_type": "code",
      "source": [
        "def sort_events(indices, similarities):\n",
        "    results = list(dict(sorted(dict(zip(indices, similarities)).items(), key=lambda item: item[1], reverse=True)).keys())\n",
        "    return results\n",
        "\n",
        "def filter_events(indices, similarities, threshold):\n",
        "    results = sorted(dict(zip(indices, similarities)).items(), key=lambda item: item[1], reverse=True)\n",
        "    results = list(dict(filter(lambda x: x[1] > threshold, results)).keys())\n",
        "    return results"
      ],
      "metadata": {
        "id": "iM09Vk7E7Oe1"
      },
      "execution_count": null,
      "outputs": []
    },
    {
      "cell_type": "code",
      "source": [
        "events = {\n",
        "    1: 'К 140-летию со дня рождения Игоря Стравинского',\n",
        "    2: 'Тренировки в Спортивном парке',\n",
        "    3: 'Закрытие Большого летнего музыкального фестиваля «Сириус»',\n",
        "    4: 'Вечер серенад с «Виртуозами Москвы»',\n",
        "    5: 'Музыкальная сборная Россия. Фортепианный марафон',\n",
        "    6: 'Религиозные мотивы в советской постмодернистской литературе',\n",
        "    7: 'Мастер-класс по гравюре на офортном станке',\n",
        "    8: 'Дискуссия «Между мягкой обложкой и коллекционным изданием»',\n",
        "    9: 'Лекция и презентация книги «Древнерусская криптография»',\n",
        "    10: 'Путешествие с Запада на Восток',\n",
        "    11: 'Виктор Цой и группа «Кино». Фотографии. Воспоминания. Презентация книги',\n",
        "    12: 'Кинопоказ в Мурино',\n",
        "    13: '«КАРМЕН». ТЕАТРАЛЬНЫЙ КОНЦЕРТ', \n",
        "    14: '«ГОЛОСА РУССКОГО ОРКЕСТРА». КОНЦЕРТ АНДРЕЕВСКОГО ОРКЕСТРА Дирижер – Дмитрий Хохлов',\n",
        "    15: '«ТАНГО И ДЖАЗ»',\n",
        "    16: 'ПРИНОШЕНИЕ ИЛЬЕ МУСИНУ. ОРКЕСТР КОСТРОМСКОЙ ФИЛАРМОНИИ', \n",
        "    17: 'АНСАМБЛЬ ДОНСКИХ КАЗАКОВ ИМ. АНАТОЛИЯ КВАСОВА',\n",
        "    18: 'ОТКРЫТИЕ КОНЦЕРТНОГО СЕЗОНА. ХОР И ОРКЕСТР КАПЕЛЛЫ',\n",
        "    19: 'МИР Российская Премьер-Лига. Тур 8. \"Краснодар\" - \"Сочи\". ',\n",
        "    20: 'Футбол. Лига чемпионов. \"Аякс\" (Нидерланды) - \"Рейнджерс\" (Шотландия). '\n",
        "}\n",
        "sentences = list(events.values())\n",
        "indices = list(events.keys())\n",
        "sentence_embeddings = model.encode(sentences)\n",
        "sentence_embeddings.shape"
      ],
      "metadata": {
        "colab": {
          "base_uri": "https://localhost:8080/"
        },
        "id": "FdfUN89xw1eq",
        "outputId": "e90a35c9-4f77-45ab-dc2c-b1030828039c"
      },
      "execution_count": null,
      "outputs": [
        {
          "output_type": "execute_result",
          "data": {
            "text/plain": [
              "(20, 512)"
            ]
          },
          "metadata": {},
          "execution_count": 47
        }
      ]
    },
    {
      "cell_type": "markdown",
      "source": [
        "## Search engine prototype"
      ],
      "metadata": {
        "id": "U4OB6c2IYJo3"
      }
    },
    {
      "cell_type": "code",
      "source": [
        "search_query = 'спорт'\n",
        "query_embedding = model.encode(search_query)\n",
        "query_embedding.shape\n",
        "similarities = cosine_similarity(\n",
        "    [query_embedding],\n",
        "    sentence_embeddings\n",
        ").tolist()[0]\n",
        "similarities"
      ],
      "metadata": {
        "colab": {
          "base_uri": "https://localhost:8080/"
        },
        "id": "1pjb638Fzz2V",
        "outputId": "b8d282ce-63ff-4c21-8490-a352d79bf9fe"
      },
      "execution_count": null,
      "outputs": [
        {
          "output_type": "execute_result",
          "data": {
            "text/plain": [
              "[-0.028517695143818855,\n",
              " 0.5193768739700317,\n",
              " -0.0030378776136785746,\n",
              " 0.003912292420864105,\n",
              " 0.22077743709087372,\n",
              " 0.12841518223285675,\n",
              " -0.0644831508398056,\n",
              " -0.10213816165924072,\n",
              " 0.012773217633366585,\n",
              " 0.05484943836927414,\n",
              " -0.012179090641438961,\n",
              " 0.10704102367162704,\n",
              " 0.11932618916034698,\n",
              " -0.026126617565751076,\n",
              " 0.1474267840385437,\n",
              " 0.05623435229063034,\n",
              " 0.0215598251670599,\n",
              " 0.014595860615372658,\n",
              " 0.003733782097697258,\n",
              " 0.22167354822158813]"
            ]
          },
          "metadata": {},
          "execution_count": 52
        }
      ]
    },
    {
      "cell_type": "code",
      "source": [
        "sort_events(indices, similarities)"
      ],
      "metadata": {
        "colab": {
          "base_uri": "https://localhost:8080/"
        },
        "id": "t6QmEx6xDki5",
        "outputId": "8c192bd8-69d7-475e-d0ed-4e9d446eccdd"
      },
      "execution_count": null,
      "outputs": [
        {
          "output_type": "execute_result",
          "data": {
            "text/plain": [
              "[2, 20, 5, 15, 6, 13, 12, 16, 10, 17, 18, 9, 4, 19, 3, 11, 14, 1, 7, 8]"
            ]
          },
          "metadata": {},
          "execution_count": 53
        }
      ]
    },
    {
      "cell_type": "code",
      "source": [
        "filter_events(indices, similarities, threshold=0.2)"
      ],
      "metadata": {
        "colab": {
          "base_uri": "https://localhost:8080/"
        },
        "id": "21qOa2hk7eZ5",
        "outputId": "a53de2cc-6c0c-46ae-e2d4-349b591bcc73"
      },
      "execution_count": null,
      "outputs": [
        {
          "output_type": "execute_result",
          "data": {
            "text/plain": [
              "[2, 20, 5]"
            ]
          },
          "metadata": {},
          "execution_count": 54
        }
      ]
    },
    {
      "cell_type": "code",
      "source": [
        "print(*[events[id] for id in filter_events(indices, similarities, threshold=0.2)], sep='\\n')"
      ],
      "metadata": {
        "colab": {
          "base_uri": "https://localhost:8080/"
        },
        "id": "4bBJyHu_WYH-",
        "outputId": "dfed780d-5d22-48ae-a113-5690f319132d"
      },
      "execution_count": null,
      "outputs": [
        {
          "output_type": "stream",
          "name": "stdout",
          "text": [
            "Тренировки в Спортивном парке\n",
            "Футбол. Лига чемпионов. \"Аякс\" (Нидерланды) - \"Рейнджерс\" (Шотландия). \n",
            "Музыкальная сборная Россия. Фортепианный марафон\n"
          ]
        }
      ]
    },
    {
      "cell_type": "markdown",
      "source": [
        "## RecSys prototype"
      ],
      "metadata": {
        "id": "JCoY2XM1YPfz"
      }
    },
    {
      "cell_type": "code",
      "source": [
        "history = []\n",
        "seen_indices = range(1, 11)\n",
        "for idx in seen_indices:\n",
        "    history.append(model.encode(sentences[idx]))"
      ],
      "metadata": {
        "id": "g-ot9L2LYTRX"
      },
      "execution_count": null,
      "outputs": []
    },
    {
      "cell_type": "code",
      "source": [
        "def range_events(events, indices, seen_indices):\n",
        "    history = []\n",
        "    seen_indices = range(1, 11)\n",
        "    for idx in seen_indices:\n",
        "        history.append(model.encode(sentences[idx]))\n",
        "    similarities = np.array(np.mean([(cosine_similarity([emb], sentence_embeddings) * ratio).tolist()[0] \n",
        "                                    for emb, ratio in zip(history, np.linspace(0.5, 1.5, len(history)))], axis=0))\n",
        "    result = sort_events(indices, similarities)\n",
        "    return result"
      ],
      "metadata": {
        "id": "i4aEb8A4slq2"
      },
      "execution_count": null,
      "outputs": []
    },
    {
      "cell_type": "code",
      "source": [
        "def id_to_text(events, idx_list):\n",
        "    return [events[id] for id in sort_events(indices, similarities)]"
      ],
      "metadata": {
        "id": "7sVvVIaVwT4r"
      },
      "execution_count": null,
      "outputs": []
    },
    {
      "cell_type": "code",
      "source": [
        "ranking = range_events(events, indices, seen_indices)\n",
        "id_to_text(events, ranking)"
      ],
      "metadata": {
        "colab": {
          "base_uri": "https://localhost:8080/"
        },
        "id": "G5QHmOFOtO58",
        "outputId": "bca7fa5c-f507-4b06-fb64-39269f90e8e3"
      },
      "execution_count": null,
      "outputs": [
        {
          "output_type": "execute_result",
          "data": {
            "text/plain": [
              "['Лекция и презентация книги «Древнерусская криптография»',\n",
              " 'Дискуссия «Между мягкой обложкой и коллекционным изданием»',\n",
              " 'Виктор Цой и группа «Кино». Фотографии. Воспоминания. Презентация книги',\n",
              " 'Вечер серенад с «Виртуозами Москвы»',\n",
              " 'Закрытие Большого летнего музыкального фестиваля «Сириус»',\n",
              " 'Религиозные мотивы в советской постмодернистской литературе',\n",
              " 'Путешествие с Запада на Восток',\n",
              " 'Музыкальная сборная Россия. Фортепианный марафон',\n",
              " '«ТАНГО И ДЖАЗ»',\n",
              " 'Мастер-класс по гравюре на офортном станке',\n",
              " 'ПРИНОШЕНИЕ ИЛЬЕ МУСИНУ. ОРКЕСТР КОСТРОМСКОЙ ФИЛАРМОНИИ',\n",
              " '«ГОЛОСА РУССКОГО ОРКЕСТРА». КОНЦЕРТ АНДРЕЕВСКОГО ОРКЕСТРА Дирижер – Дмитрий Хохлов',\n",
              " '«КАРМЕН». ТЕАТРАЛЬНЫЙ КОНЦЕРТ',\n",
              " 'Кинопоказ в Мурино',\n",
              " 'ОТКРЫТИЕ КОНЦЕРТНОГО СЕЗОНА. ХОР И ОРКЕСТР КАПЕЛЛЫ',\n",
              " 'МИР Российская Премьер-Лига. Тур 8. \"Краснодар\" - \"Сочи\". ',\n",
              " 'АНСАМБЛЬ ДОНСКИХ КАЗАКОВ ИМ. АНАТОЛИЯ КВАСОВА',\n",
              " 'К 140-летию со дня рождения Игоря Стравинского',\n",
              " 'Тренировки в Спортивном парке',\n",
              " 'Футбол. Лига чемпионов. \"Аякс\" (Нидерланды) - \"Рейнджерс\" (Шотландия). ']"
            ]
          },
          "metadata": {},
          "execution_count": 118
        }
      ]
    },
    {
      "cell_type": "code",
      "source": [
        "similarities = np.array(np.mean([(cosine_similarity([emb], sentence_embeddings) * ratio).tolist()[0] \n",
        "                                 for emb, ratio in zip(history, np.linspace(0.5, 1.5, len(history)))], axis=0))"
      ],
      "metadata": {
        "id": "HAB5wkoygtoZ"
      },
      "execution_count": null,
      "outputs": []
    },
    {
      "cell_type": "code",
      "source": [
        "print(*[events[id] for id in sort_events(indices, similarities)], sep='\\n')"
      ],
      "metadata": {
        "colab": {
          "base_uri": "https://localhost:8080/"
        },
        "id": "VmPyit-oYhT_",
        "outputId": "ca20a99c-dd7c-4a65-fec0-d18a430bb9d2"
      },
      "execution_count": null,
      "outputs": [
        {
          "output_type": "stream",
          "name": "stdout",
          "text": [
            "Лекция и презентация книги «Древнерусская криптография»\n",
            "Дискуссия «Между мягкой обложкой и коллекционным изданием»\n",
            "Виктор Цой и группа «Кино». Фотографии. Воспоминания. Презентация книги\n",
            "Вечер серенад с «Виртуозами Москвы»\n",
            "Закрытие Большого летнего музыкального фестиваля «Сириус»\n",
            "Религиозные мотивы в советской постмодернистской литературе\n",
            "Путешествие с Запада на Восток\n",
            "Музыкальная сборная Россия. Фортепианный марафон\n",
            "«ТАНГО И ДЖАЗ»\n",
            "Мастер-класс по гравюре на офортном станке\n",
            "ПРИНОШЕНИЕ ИЛЬЕ МУСИНУ. ОРКЕСТР КОСТРОМСКОЙ ФИЛАРМОНИИ\n",
            "«ГОЛОСА РУССКОГО ОРКЕСТРА». КОНЦЕРТ АНДРЕЕВСКОГО ОРКЕСТРА Дирижер – Дмитрий Хохлов\n",
            "«КАРМЕН». ТЕАТРАЛЬНЫЙ КОНЦЕРТ\n",
            "Кинопоказ в Мурино\n",
            "ОТКРЫТИЕ КОНЦЕРТНОГО СЕЗОНА. ХОР И ОРКЕСТР КАПЕЛЛЫ\n",
            "МИР Российская Премьер-Лига. Тур 8. \"Краснодар\" - \"Сочи\". \n",
            "АНСАМБЛЬ ДОНСКИХ КАЗАКОВ ИМ. АНАТОЛИЯ КВАСОВА\n",
            "К 140-летию со дня рождения Игоря Стравинского\n",
            "Тренировки в Спортивном парке\n",
            "Футбол. Лига чемпионов. \"Аякс\" (Нидерланды) - \"Рейнджерс\" (Шотландия). \n"
          ]
        }
      ]
    },
    {
      "cell_type": "code",
      "source": [],
      "metadata": {
        "id": "iN9Fb8iCqlPD"
      },
      "execution_count": null,
      "outputs": []
    }
  ]
}